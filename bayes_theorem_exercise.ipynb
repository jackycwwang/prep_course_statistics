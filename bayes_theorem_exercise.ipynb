{
 "cells": [
  {
   "cell_type": "markdown",
   "metadata": {
    "ExecuteTime": {
     "end_time": "2020-02-05T17:56:18.818219Z",
     "start_time": "2020-02-05T17:56:18.810698Z"
    }
   },
   "source": [
    "## Exercise 1\n",
    "In Orange County, 51% of the adults are males. (It doesn't take too much advanced\n",
    "mathematics to deduce that the other 49% are females.) One adult is randomly selected\n",
    "for a survey involving credit card usage.\n",
    "\n",
    "- **(a)** Find the probability that the selected person is a male.\n",
    "\n",
    "- **(b)** It is later learned that the selected survey subject was smoking a cigar. Also, 9.5% of males smoke cigars, whereas 1.7% of females smoke cigars (based on data from the Substance Abuse and Mental Health Services Administration). Use this additional information to find the probability that the cigar−smoking respondent is a male\n",
    "\n",
    "Use following notation:\n",
    "M = male <br>\n",
    "F = female <br>\n",
    "C = cigar smoker<br>\n",
    "NC = not a cigar smoker<br>\n"
   ]
  },
  {
   "cell_type": "code",
   "execution_count": 1,
   "metadata": {},
   "outputs": [],
   "source": [
    "import numpy as np"
   ]
  },
  {
   "cell_type": "code",
   "execution_count": 4,
   "metadata": {},
   "outputs": [
    {
     "name": "stdout",
     "output_type": "stream",
     "text": [
      "50.94 %\n"
     ]
    }
   ],
   "source": [
    "n_runs = 100000\n",
    "M, F, C, NC = 0, 0, 0, 0\n",
    "\n",
    "for _ in range(n_runs):\n",
    "    if np.random.random() < 0.51:\n",
    "        M += 1\n",
    "P_M = M / n_runs * 100\n",
    "print(f'{P_M} %')"
   ]
  },
  {
   "cell_type": "code",
   "execution_count": 10,
   "metadata": {},
   "outputs": [],
   "source": [
    "M, F, C, NC = 0, 0, 0, 0\n",
    "M_C, M_NC, F_C, F_NC = 0, 0, 0, 0\n",
    "\n",
    "for _ in range(n_runs):\n",
    "    if np.random.random() < 0.51:\n",
    "        M += 1\n",
    "        \n",
    "        if np.random.random() < 0.095:\n",
    "            M_C += 1\n",
    "            C += 1\n",
    "        else:\n",
    "            M_NC += 1\n",
    "            NC += 1\n",
    "            \n",
    "    else:\n",
    "        F += 1\n",
    "        \n",
    "        if np.random.random() < 0.017:\n",
    "            F_C += 1\n",
    "            C += 1\n",
    "        else:\n",
    "            F_NC += 1\n",
    "            NC += 1\n",
    "    "
   ]
  },
  {
   "cell_type": "code",
   "execution_count": 12,
   "metadata": {},
   "outputs": [],
   "source": [
    "P_M = M / n_runs * 100\n",
    "P_F = F / n_runs * 100\n",
    "P_C = C / n_runs * 100\n",
    "P_NC = NC / n_runs * 100\n",
    "P_M_C = M_C / n_runs * 100"
   ]
  },
  {
   "cell_type": "code",
   "execution_count": 13,
   "metadata": {},
   "outputs": [
    {
     "name": "stdout",
     "output_type": "stream",
     "text": [
      "0.8580357142857143\n"
     ]
    }
   ],
   "source": [
    "P_MALE_CIGAR = P_M_C / P_C\n",
    "print(P_MALE_CIGAR)"
   ]
  },
  {
   "cell_type": "markdown",
   "metadata": {
    "ExecuteTime": {
     "end_time": "2020-02-05T17:56:20.532960Z",
     "start_time": "2020-02-05T17:56:20.525450Z"
    }
   },
   "source": [
    "# Exercise 2\n",
    "\n",
    "A diagnostic test has a probability 0.95 of giving a positive result when applied to a person suffering\n",
    "from a certain disease, and a probability 0.10 of giving a (false) positive when applied to a non-sufferer. It is\n",
    "estimated that 0.5 % of the population are sufferers. Suppose that the test is now administered to a person about\n",
    "whom we have no relevant information relating to the disease (apart from the fact that he/she comes from this\n",
    "population). \n",
    "\n",
    "Calculate the following probabilities:\n",
    "- **(a)** that the test result will be positive;\n",
    "- **(b)** that, given a positive result, the person is a sufferer;\n",
    "- **(c)** that, given a negative result, the person is a non-sufferer;\n",
    "- **(d)** that the person will be misclassified.\n",
    "\n",
    "Use following notation:\n",
    "\n",
    "T = test positive <br>\n",
    "NT = test negative<br>\n",
    "S = sufferer<br>\n",
    "NS = non-sufferer<br>\n",
    "M = misclassified<br>\n",
    "\n",
    "Solve it by two approaches:\n",
    "1. Arithmetically\n",
    "2. By simulation"
   ]
  },
  {
   "cell_type": "markdown",
   "metadata": {},
   "source": [
    "Given:\n",
    "```\n",
    "P(T|S) = 0.95\n",
    "P(T|NS) = 0.1\n",
    "P(S) = 0.005\n",
    "```\n",
    "and\n",
    "```\n",
    "P(NT|S) = 1 - 0.95 = 0.05\n",
    "P(NT|NS) = 1 - 0.1 = 0.9\n",
    "P(NS) = 1 - 0.005 = 0.995\n",
    "```"
   ]
  },
  {
   "cell_type": "markdown",
   "metadata": {},
   "source": [
    "```\n",
    "(a) P(T) = P(T|S)P(S) + P(T|NS)P(NS) = 0.95 * 0.005 + 0.1 * 0.995 = 0.1043  \n",
    "\n",
    "    ==>  P(NT) = 1 - 0.1043 = 0.8957\n",
    "\n",
    "(b) P(S|T) = P(T|S)P(S) / P(T) = 0.95 * 0.005 / 0.1043 = 0.0455\n",
    "\n",
    "(c) P(NS|NT) = P(NS)P(NT|NS) / P(NT) = 0.995 * 0.9 / 0.8957 = 0.9998\n",
    "\n",
    "(d) P(M) = P(NT|S)P(S) + P(T|NS)P(NS) = 0.05 * 0.005 + 0.1 * 0.8957 = 0.898\n",
    "```"
   ]
  },
  {
   "cell_type": "code",
   "execution_count": 35,
   "metadata": {},
   "outputs": [],
   "source": [
    "n_runs = 1000000\n",
    "S, NS, T, NS, NT, M = 0, 0, 0, 0, 0, 0\n",
    "S_T, S_NT, NS_T, NS_NT = 0, 0, 0, 0\n",
    "for _ in range(n_runs):\n",
    "    \n",
    "    # It's a sufferer\n",
    "    if np.random.random() < 0.005:\n",
    "        S += 1\n",
    "        \n",
    "        if np.random.random() < 0.95:\n",
    "            # Test positive\n",
    "            T += 1\n",
    "            S_T += 1\n",
    "        else:\n",
    "            # Test negative\n",
    "            NT += 1\n",
    "            S_NT += 1\n",
    "            M += 1\n",
    "            \n",
    "    # It's not a sufferer\n",
    "    else:\n",
    "        NS += 1\n",
    "        \n",
    "        # Test positive\n",
    "        if np.random.random() < 0.1:\n",
    "            T += 1\n",
    "            NS_T += 1\n",
    "            M += 1\n",
    "            \n",
    "        # Test negative\n",
    "        else:\n",
    "            NT += 1\n",
    "            NS_NT += 1        \n"
   ]
  },
  {
   "cell_type": "code",
   "execution_count": 36,
   "metadata": {},
   "outputs": [
    {
     "data": {
      "text/plain": [
       "10.463799999999999"
      ]
     },
     "execution_count": 36,
     "metadata": {},
     "output_type": "execute_result"
    }
   ],
   "source": [
    "# (a) that the test result will be positive;\n",
    "P_T = T / n_runs * 100\n",
    "P_T"
   ]
  },
  {
   "cell_type": "code",
   "execution_count": 37,
   "metadata": {},
   "outputs": [
    {
     "data": {
      "text/plain": [
       "0.04606357155144403"
      ]
     },
     "execution_count": 37,
     "metadata": {},
     "output_type": "execute_result"
    }
   ],
   "source": [
    "# (b) that, given a positive result, the person is a sufferer\n",
    "P_S_T = S_T / n_runs * 100\n",
    "P_T_Sufferer = P_S_T / P_T\n",
    "P_T_Sufferer"
   ]
  },
  {
   "cell_type": "code",
   "execution_count": 38,
   "metadata": {},
   "outputs": [
    {
     "data": {
      "text/plain": [
       "0.9997151989921396"
      ]
     },
     "execution_count": 38,
     "metadata": {},
     "output_type": "execute_result"
    }
   ],
   "source": [
    "# (c) that, given a negative result, the person is a non-sufferer\n",
    "P_NS_NT = NS_NT / n_runs * 100\n",
    "P_NT = NT / n_runs * 100\n",
    "P_NT_Non_Sufferer = P_NS_NT / P_NT\n",
    "P_NT_Non_Sufferer"
   ]
  },
  {
   "cell_type": "code",
   "execution_count": 39,
   "metadata": {},
   "outputs": [
    {
     "data": {
      "text/plain": [
       "10.007299999999999"
      ]
     },
     "execution_count": 39,
     "metadata": {},
     "output_type": "execute_result"
    }
   ],
   "source": [
    "# (d) that the person will be misclassified\n",
    "P_M = M / n_runs * 100\n",
    "P_M"
   ]
  },
  {
   "cell_type": "code",
   "execution_count": 40,
   "metadata": {},
   "outputs": [
    {
     "data": {
      "text/plain": [
       "10.007299999999999"
      ]
     },
     "execution_count": 40,
     "metadata": {},
     "output_type": "execute_result"
    }
   ],
   "source": [
    "# or use this\n",
    "P_S_NT = S_NT / n_runs * 100\n",
    "P_NS_T = NS_T / n_runs * 100\n",
    "M = P_S_NT + P_NS_T\n",
    "M"
   ]
  },
  {
   "cell_type": "code",
   "execution_count": null,
   "metadata": {},
   "outputs": [],
   "source": []
  }
 ],
 "metadata": {
  "kernelspec": {
   "display_name": "Python 3",
   "language": "python",
   "name": "python3"
  },
  "language_info": {
   "codemirror_mode": {
    "name": "ipython",
    "version": 3
   },
   "file_extension": ".py",
   "mimetype": "text/x-python",
   "name": "python",
   "nbconvert_exporter": "python",
   "pygments_lexer": "ipython3",
   "version": "3.8.10"
  },
  "toc": {
   "base_numbering": 1,
   "nav_menu": {},
   "number_sections": true,
   "sideBar": true,
   "skip_h1_title": false,
   "title_cell": "Table of Contents",
   "title_sidebar": "Contents",
   "toc_cell": false,
   "toc_position": {},
   "toc_section_display": true,
   "toc_window_display": false
  },
  "varInspector": {
   "cols": {
    "lenName": 16,
    "lenType": 16,
    "lenVar": 40
   },
   "kernels_config": {
    "python": {
     "delete_cmd_postfix": "",
     "delete_cmd_prefix": "del ",
     "library": "var_list.py",
     "varRefreshCmd": "print(var_dic_list())"
    },
    "r": {
     "delete_cmd_postfix": ") ",
     "delete_cmd_prefix": "rm(",
     "library": "var_list.r",
     "varRefreshCmd": "cat(var_dic_list()) "
    }
   },
   "types_to_exclude": [
    "module",
    "function",
    "builtin_function_or_method",
    "instance",
    "_Feature"
   ],
   "window_display": false
  }
 },
 "nbformat": 4,
 "nbformat_minor": 4
}
